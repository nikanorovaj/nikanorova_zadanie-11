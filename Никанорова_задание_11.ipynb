{
  "nbformat": 4,
  "nbformat_minor": 0,
  "metadata": {
    "colab": {
      "provenance": []
    },
    "kernelspec": {
      "name": "python3",
      "display_name": "Python 3"
    },
    "language_info": {
      "name": "python"
    }
  },
  "cells": [
    {
      "cell_type": "code",
      "execution_count": null,
      "metadata": {
        "id": "ghTiAP8FMc1v"
      },
      "outputs": [],
      "source": [
        "import requests\n",
        "import re\n",
        "\n",
        "url = \"https://www.gutenberg.org/files/4300/4300-h/4300-h.htm \"\n",
        "response = requests.get(url)\n",
        "text = response.text\n",
        "\n",
        "start_idx = text.find('<h2>')\n",
        "end_idx = text.find('<h2>', start_idx + 1)\n",
        "chapter_1 = text[start_idx:end_idx]\n",
        "\n",
        "from text_utils import process_text, find_word_contexts\n",
        "from tf_idf_class import TextProcessor\n",
        "\n",
        "word_counts = process_text(chapter_1)\n",
        "print(\"Частота слов:\", dict(word_counts.most_common(10)))\n",
        "\n",
        "contexts = find_word_contexts(chapter_1, \"mrk\", left_len=5, right_len=5, cut_length=True)\n",
        "print(\"\\nКонтекст слова 'mrk':\")\n",
        "for ctx in contexts:\n",
        "    print(f\"{ctx['left']} _{ctx['center']}_ {ctx['right']}\")\n",
        "\n",
        "docs = [\n",
        "    \"This is a sample document.\",\n",
        "    \"Another example document with some repeated words.\",\n",
        "    \"The third document uses more words.\"\n",
        "]\n",
        "tp = TextProcessor(docs)\n",
        "\n",
        "print(\"\\nTF-IDF:\")\n",
        "for i in range(len(docs)):\n",
        "    for word in set(docs[i].lower().split()):\n",
        "        tf_idf = tp.get_tf_idf(word, i)\n",
        "        print(f\"Doc {i}, Word '{word}': {tf_idf:.4f}\")"
      ]
    },
    {
      "cell_type": "code",
      "source": [
        "```python\n",
        "   from google.colab import files\n",
        "   uploaded = files.upload()"
      ],
      "metadata": {
        "id": "1fQfqPs_M4BX"
      },
      "execution_count": null,
      "outputs": []
    },
    {
      "cell_type": "code",
      "source": [
        "from tf_idf_class import TextProcessor\n",
        "from text_utils import process_text, find_word_contexts"
      ],
      "metadata": {
        "id": "qtLnAicMNL9n"
      },
      "execution_count": null,
      "outputs": []
    }
  ]
}